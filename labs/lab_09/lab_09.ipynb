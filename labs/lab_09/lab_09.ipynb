{
 "cells": [
  {
   "cell_type": "markdown",
   "metadata": {},
   "source": [
    "[![image](https://colab.research.google.com/assets/colab-badge.svg)](https://colab.research.google.com/github/giswqs/geog-312/blob/master/labs/lab_09.ipynb)\n",
    "[![image](https://binder.pangeo.io/badge_logo.svg)](https://gishub.org/geog312-pangeo)\n",
    "\n",
    "**Firstname Lastname**"
   ]
  },
  {
   "cell_type": "code",
   "execution_count": null,
   "metadata": {},
   "outputs": [],
   "source": [
    "from datetime import datetime\n",
    "\n",
    "now = datetime.now()\n",
    "print(f\"Submitted time: {now}\")"
   ]
  },
  {
   "cell_type": "markdown",
   "metadata": {},
   "source": [
    "## Question 1\n",
    "\n",
    "Create a map for any state (except Tennessee) with the county boundary as the background and place names as a marker cluster. See the demo below. \n",
    "\n",
    "You can download county boundary data and place names from [USDA Geospatial Data Gateway](https://datagateway.nrcs.usda.gov/). On the right sidebar menu of the page, click [Order by State](https://datagateway.nrcs.usda.gov/GDGOrder.aspx?order=QuickState). Select a state (except Tennessee) and download the county boundary and place names. Then you can write code to create an interactive map like the demo shown below. \n",
    "\n",
    "Submit a link to the HTML file, which must include a GIF demo, just like the demo you see on this page.\n",
    "\n",
    "Steps to insert to a Jupyter notebook:\n",
    "- Create a GIF of the map\n",
    "- Upload the GIF to https://imgur.com\n",
    "- Get a link to the uploaded GIF, such as https://i.imgur.com/Xb6bTIR.gif\n",
    "- Create a markdown cell in Jupyter notebook\n",
    "- Insert the link to the markdown cell, such as `![](https://i.imgur.com/Xb6bTIR.gif)`\n",
    "- Export the notebook as an HTML file\n",
    "\n",
    "![](https://i.imgur.com/icP9Kws.png)"
   ]
  },
  {
   "cell_type": "code",
   "execution_count": null,
   "metadata": {},
   "outputs": [],
   "source": [
    "import leafmap"
   ]
  },
  {
   "cell_type": "code",
   "execution_count": null,
   "metadata": {},
   "outputs": [],
   "source": []
  },
  {
   "cell_type": "code",
   "execution_count": null,
   "metadata": {},
   "outputs": [],
   "source": []
  },
  {
   "cell_type": "markdown",
   "metadata": {},
   "source": [
    "![](https://i.imgur.com/Xb6bTIR.gif)"
   ]
  },
  {
   "cell_type": "code",
   "execution_count": null,
   "metadata": {},
   "outputs": [],
   "source": []
  }
 ],
 "metadata": {
  "kernelspec": {
   "display_name": "Python 3 (ipykernel)",
   "language": "python",
   "name": "python3"
  },
  "language_info": {
   "codemirror_mode": {
    "name": "ipython",
    "version": 3
   },
   "file_extension": ".py",
   "mimetype": "text/x-python",
   "name": "python",
   "nbconvert_exporter": "python",
   "pygments_lexer": "ipython3",
   "version": "3.8.10"
  }
 },
 "nbformat": 4,
 "nbformat_minor": 4
}
